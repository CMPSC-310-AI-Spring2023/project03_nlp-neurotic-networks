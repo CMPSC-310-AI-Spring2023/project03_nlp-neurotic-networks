{
  "nbformat": 4,
  "nbformat_minor": 0,
  "metadata": {
    "colab": {
      "provenance": [],
      "include_colab_link": true
    },
    "kernelspec": {
      "name": "python3",
      "display_name": "Python 3"
    },
    "language_info": {
      "name": "python"
    },
    "accelerator": "GPU",
    "gpuClass": "standard"
  },
  "cells": [
    {
      "cell_type": "markdown",
      "metadata": {
        "id": "view-in-github",
        "colab_type": "text"
      },
      "source": [
        "<a href=\"https://colab.research.google.com/github/CMPSC-310-AI-Spring2023/project03_nlp-neurotic-networks/blob/main/ai_project3_notebook.ipynb\" target=\"_parent\"><img src=\"https://colab.research.google.com/assets/colab-badge.svg\" alt=\"Open In Colab\"/></a>"
      ]
    },
    {
      "cell_type": "markdown",
      "source": [
        "Handle imports"
      ],
      "metadata": {
        "id": "D4sJG-zRwTU5"
      }
    },
    {
      "cell_type": "code",
      "execution_count": 1,
      "metadata": {
        "id": "xb4YKah2v-OD"
      },
      "outputs": [],
      "source": [
        "import tensorflow as tf\n",
        "\n",
        "import numpy as np\n",
        "import os\n",
        "import time"
      ]
    },
    {
      "cell_type": "code",
      "source": [
        "from google.colab import drive\n",
        "\n",
        "drive.mount('/content/drive')"
      ],
      "metadata": {
        "colab": {
          "base_uri": "https://localhost:8080/"
        },
        "id": "6jjsRgPz87De",
        "outputId": "4209e849-c7fc-44d7-d67c-664664e6f521"
      },
      "execution_count": 2,
      "outputs": [
        {
          "output_type": "stream",
          "name": "stdout",
          "text": [
            "Mounted at /content/drive\n"
          ]
        }
      ]
    },
    {
      "cell_type": "markdown",
      "source": [
        "Load textual script data (one giant .srt with 11 movie scripts included); print number of characters to verify that text has been successfully retrieved"
      ],
      "metadata": {
        "id": "7brGmiVDwZf1"
      }
    },
    {
      "cell_type": "code",
      "source": [
        "text = open('/content/drive/My Drive/CMPSC310_ColabNotebooks/AI_Project3/11-movie-synop.srt', 'rb').read().decode(encoding='utf-8')\n",
        "print(f'Length of text: {len(text)} characters')"
      ],
      "metadata": {
        "id": "AHg95JDCwjVr",
        "outputId": "a1517b8d-881f-46ce-f938-c0eccd49f025",
        "colab": {
          "base_uri": "https://localhost:8080/"
        }
      },
      "execution_count": 3,
      "outputs": [
        {
          "output_type": "stream",
          "name": "stdout",
          "text": [
            "Length of text: 103083 characters\n"
          ]
        }
      ]
    },
    {
      "cell_type": "markdown",
      "source": [
        "Sample beginning of subtitle text to ensure correct file has been loaded"
      ],
      "metadata": {
        "id": "IjKul0VvxAYM"
      }
    },
    {
      "cell_type": "code",
      "source": [
        "print(text[:250])"
      ],
      "metadata": {
        "colab": {
          "base_uri": "https://localhost:8080/"
        },
        "id": "BziJcx0jwM88",
        "outputId": "4a5d9921-1105-4bea-e689-3110ba98eb9f"
      },
      "execution_count": 4,
      "outputs": [
        {
          "output_type": "stream",
          "name": "stdout",
          "text": [
            "The story takes place in the future where the greenhouse gases have caused the polar icecaps to melt, flooding coastal cities. To combat over-population, people wishing to have children must apply for a license.\r\n",
            "\r\n",
            "The film starts in the offices of a\n"
          ]
        }
      ]
    },
    {
      "cell_type": "markdown",
      "source": [
        "Retrieve vocabulary (number of unique characters in data text)"
      ],
      "metadata": {
        "id": "Tdry-lkczeT7"
      }
    },
    {
      "cell_type": "code",
      "source": [
        "vocab = sorted(set(text))\n",
        "print(f'{len(vocab)} unique characters')"
      ],
      "metadata": {
        "colab": {
          "base_uri": "https://localhost:8080/"
        },
        "id": "YdL9W-jbxg7c",
        "outputId": "e96b1787-9f2e-4119-c525-42a8eb64b8e3"
      },
      "execution_count": 5,
      "outputs": [
        {
          "output_type": "stream",
          "name": "stdout",
          "text": [
            "77 unique characters\n"
          ]
        }
      ]
    },
    {
      "cell_type": "markdown",
      "source": [
        "Demonstrate splitting text into tokens"
      ],
      "metadata": {
        "id": "XVP52Y7VzpQW"
      }
    },
    {
      "cell_type": "code",
      "source": [
        "example_texts = ['abcdefg', 'xyz']\n",
        "\n",
        "chars = tf.strings.unicode_split(example_texts, input_encoding='UTF-8')\n",
        "chars"
      ],
      "metadata": {
        "colab": {
          "base_uri": "https://localhost:8080/"
        },
        "id": "Gf58Unr-zlnG",
        "outputId": "30c71728-55ac-49fc-fe98-07e0ce6010c3"
      },
      "execution_count": 6,
      "outputs": [
        {
          "output_type": "execute_result",
          "data": {
            "text/plain": [
              "<tf.RaggedTensor [[b'a', b'b', b'c', b'd', b'e', b'f', b'g'], [b'x', b'y', b'z']]>"
            ]
          },
          "metadata": {},
          "execution_count": 6
        }
      ]
    },
    {
      "cell_type": "markdown",
      "source": [
        "Create a lookup layer"
      ],
      "metadata": {
        "id": "o3qunQdH0Jv_"
      }
    },
    {
      "cell_type": "code",
      "source": [
        "ids_from_chars = tf.keras.layers.StringLookup(\n",
        "    vocabulary=list(vocab), mask_token=None)"
      ],
      "metadata": {
        "id": "yrjx_zvwz4TE"
      },
      "execution_count": 7,
      "outputs": []
    },
    {
      "cell_type": "markdown",
      "source": [
        "Convert tokens into numeric character IDs"
      ],
      "metadata": {
        "id": "Nf9zlval0cip"
      }
    },
    {
      "cell_type": "code",
      "source": [
        "ids = ids_from_chars(chars)\n",
        "ids"
      ],
      "metadata": {
        "colab": {
          "base_uri": "https://localhost:8080/"
        },
        "id": "IgWKwXW_0N2X",
        "outputId": "7715bcc9-bcfe-4d81-9ac6-929e7ef39116"
      },
      "execution_count": 8,
      "outputs": [
        {
          "output_type": "execute_result",
          "data": {
            "text/plain": [
              "<tf.RaggedTensor [[50, 51, 52, 53, 54, 55, 56], [73, 74, 75]]>"
            ]
          },
          "metadata": {},
          "execution_count": 8
        }
      ]
    },
    {
      "cell_type": "markdown",
      "source": [
        "Demonstrate the inverse of converting tokens into numeric IDs--converting numeric IDs into characters (so we can see a human-readable end product)"
      ],
      "metadata": {
        "id": "0yqkRYRa06Yw"
      }
    },
    {
      "cell_type": "code",
      "source": [
        "chars_from_ids = tf.keras.layers.StringLookup(\n",
        "    vocabulary=ids_from_chars.get_vocabulary(), invert=True, mask_token=None)"
      ],
      "metadata": {
        "id": "Vn7HItGm0i7f"
      },
      "execution_count": 9,
      "outputs": []
    },
    {
      "cell_type": "markdown",
      "source": [
        "Rejoin IDs-converted-into-characters to form full text strings"
      ],
      "metadata": {
        "id": "IeeFK9Bs1IeT"
      }
    },
    {
      "cell_type": "code",
      "source": [
        "tf.strings.reduce_join(chars, axis=-1).numpy()"
      ],
      "metadata": {
        "colab": {
          "base_uri": "https://localhost:8080/"
        },
        "id": "1ZuR0ydp1HUT",
        "outputId": "913e207e-42c1-4531-d87d-9890451a4769"
      },
      "execution_count": 10,
      "outputs": [
        {
          "output_type": "execute_result",
          "data": {
            "text/plain": [
              "array([b'abcdefg', b'xyz'], dtype=object)"
            ]
          },
          "metadata": {},
          "execution_count": 10
        }
      ]
    },
    {
      "cell_type": "markdown",
      "source": [
        "Condense above code into callable function for future use"
      ],
      "metadata": {
        "id": "6mUSdzxH1Vk4"
      }
    },
    {
      "cell_type": "code",
      "source": [
        "def text_from_ids(ids):\n",
        "  return tf.strings.reduce_join(chars_from_ids(ids), axis=-1)"
      ],
      "metadata": {
        "id": "EWmm-HI51Tkc"
      },
      "execution_count": 11,
      "outputs": []
    },
    {
      "cell_type": "markdown",
      "source": [
        "Actually vectorize the subtitle text using above demonstration code"
      ],
      "metadata": {
        "id": "DLK_X7pB1lrg"
      }
    },
    {
      "cell_type": "code",
      "source": [
        "all_ids = ids_from_chars(tf.strings.unicode_split(text, 'UTF-8'))\n",
        "all_ids"
      ],
      "metadata": {
        "colab": {
          "base_uri": "https://localhost:8080/"
        },
        "id": "IGUJsNSh1i-9",
        "outputId": "d1d6718e-4e3b-4537-e539-f1681c72fe29"
      },
      "execution_count": 12,
      "outputs": [
        {
          "output_type": "execute_result",
          "data": {
            "text/plain": [
              "<tf.Tensor: shape=(103083,), dtype=int64, numpy=array([44, 57, 54, ..., 68, 69, 11])>"
            ]
          },
          "metadata": {},
          "execution_count": 12
        }
      ]
    },
    {
      "cell_type": "markdown",
      "source": [
        "Convert vector into a data stream of character IDs"
      ],
      "metadata": {
        "id": "-05t0Xie2Swh"
      }
    },
    {
      "cell_type": "code",
      "source": [
        "ids_dataset = tf.data.Dataset.from_tensor_slices(all_ids)"
      ],
      "metadata": {
        "id": "AUM0P16D2Rhy"
      },
      "execution_count": 13,
      "outputs": []
    },
    {
      "cell_type": "markdown",
      "source": [
        "Retrieve first ten characters from IDs in data stream to demonstrate correctness"
      ],
      "metadata": {
        "id": "LogudRvM2pEy"
      }
    },
    {
      "cell_type": "code",
      "source": [
        "for ids in ids_dataset.take(10):\n",
        "    print(chars_from_ids(ids).numpy().decode('utf-8'))"
      ],
      "metadata": {
        "colab": {
          "base_uri": "https://localhost:8080/"
        },
        "id": "HaFA3lUz2iKo",
        "outputId": "9b2299d8-fcbd-42ca-ef7a-5fa8eb81bc2a"
      },
      "execution_count": 14,
      "outputs": [
        {
          "output_type": "stream",
          "name": "stdout",
          "text": [
            "T\n",
            "h\n",
            "e\n",
            " \n",
            "s\n",
            "t\n",
            "o\n",
            "r\n",
            "y\n",
            " \n"
          ]
        }
      ]
    },
    {
      "cell_type": "markdown",
      "source": [
        "Set `seq_length`, which is the length of a single training sequence (in this case, 100 characters)"
      ],
      "metadata": {
        "id": "oIakraBD223G"
      }
    },
    {
      "cell_type": "code",
      "source": [
        "seq_length = 100"
      ],
      "metadata": {
        "id": "LJTURv_Q2xqc"
      },
      "execution_count": 15,
      "outputs": []
    },
    {
      "cell_type": "markdown",
      "source": [
        "Demonstrate calling batch to split up subtitles data into training sequences; view the first training sequence to affirm correctness"
      ],
      "metadata": {
        "id": "PVuQZDRm3HhP"
      }
    },
    {
      "cell_type": "code",
      "source": [
        "sequences = ids_dataset.batch(seq_length+1, drop_remainder=True)\n",
        "\n",
        "for seq in sequences.take(1):\n",
        "  print(chars_from_ids(seq))"
      ],
      "metadata": {
        "colab": {
          "base_uri": "https://localhost:8080/"
        },
        "id": "OZ4w3TQj3CxI",
        "outputId": "9f4d9827-c564-44e1-becf-2d4ff8e6fa45"
      },
      "execution_count": 16,
      "outputs": [
        {
          "output_type": "stream",
          "name": "stdout",
          "text": [
            "tf.Tensor(\n",
            "[b'T' b'h' b'e' b' ' b's' b't' b'o' b'r' b'y' b' ' b't' b'a' b'k' b'e'\n",
            " b's' b' ' b'p' b'l' b'a' b'c' b'e' b' ' b'i' b'n' b' ' b't' b'h' b'e'\n",
            " b' ' b'f' b'u' b't' b'u' b'r' b'e' b' ' b'w' b'h' b'e' b'r' b'e' b' '\n",
            " b't' b'h' b'e' b' ' b'g' b'r' b'e' b'e' b'n' b'h' b'o' b'u' b's' b'e'\n",
            " b' ' b'g' b'a' b's' b'e' b's' b' ' b'h' b'a' b'v' b'e' b' ' b'c' b'a'\n",
            " b'u' b's' b'e' b'd' b' ' b't' b'h' b'e' b' ' b'p' b'o' b'l' b'a' b'r'\n",
            " b' ' b'i' b'c' b'e' b'c' b'a' b'p' b's' b' ' b't' b'o' b' ' b'm' b'e'\n",
            " b'l' b't' b','], shape=(101,), dtype=string)\n"
          ]
        }
      ]
    },
    {
      "cell_type": "markdown",
      "source": [
        "Rejoin above output into a human-readable string"
      ],
      "metadata": {
        "id": "CKJ1NN8h3cNu"
      }
    },
    {
      "cell_type": "code",
      "source": [
        "for seq in sequences.take(5):\n",
        "  print(text_from_ids(seq).numpy())"
      ],
      "metadata": {
        "colab": {
          "base_uri": "https://localhost:8080/"
        },
        "id": "CtpqKPLE3abi",
        "outputId": "10a8d99d-95ab-4e15-db34-e07fe480ba4f"
      },
      "execution_count": 17,
      "outputs": [
        {
          "output_type": "stream",
          "name": "stdout",
          "text": [
            "b'The story takes place in the future where the greenhouse gases have caused the polar icecaps to melt,'\n",
            "b' flooding coastal cities. To combat over-population, people wishing to have children must apply for a'\n",
            "b' license.\\r\\n\\r\\nThe film starts in the offices of a company called Cybertronics, where its owner, Profes'\n",
            "b'sor Allen Hobby, wishes to push mecha technology, to make a creation that can love. When his colleagu'\n",
            "b\"es mention their 'love units' Hobby corrects them: he is not talking physical love, but emotional lov\"\n"
          ]
        }
      ]
    },
    {
      "cell_type": "markdown",
      "source": [
        "Define `split_input_target`, a function that can extract both an input text and a target text from a single training sequence"
      ],
      "metadata": {
        "id": "iqf4d6NS3kq5"
      }
    },
    {
      "cell_type": "code",
      "source": [
        "def split_input_target(sequence):\n",
        "    input_text = sequence[:-1]\n",
        "    target_text = sequence[1:]\n",
        "    return input_text, target_text"
      ],
      "metadata": {
        "id": "cbIM9gQ53jvr"
      },
      "execution_count": 18,
      "outputs": []
    },
    {
      "cell_type": "markdown",
      "source": [
        "Demonstrate utility of `split_input_target`"
      ],
      "metadata": {
        "id": "hW1ErpAd35Pq"
      }
    },
    {
      "cell_type": "code",
      "source": [
        "split_input_target(list(\"Tensorflow\"))"
      ],
      "metadata": {
        "colab": {
          "base_uri": "https://localhost:8080/"
        },
        "id": "QoH3lI0Y34Lb",
        "outputId": "f2f346a9-dd14-41c7-90f0-58c1ef7f429a"
      },
      "execution_count": 19,
      "outputs": [
        {
          "output_type": "execute_result",
          "data": {
            "text/plain": [
              "(['T', 'e', 'n', 's', 'o', 'r', 'f', 'l', 'o'],\n",
              " ['e', 'n', 's', 'o', 'r', 'f', 'l', 'o', 'w'])"
            ]
          },
          "metadata": {},
          "execution_count": 19
        }
      ]
    },
    {
      "cell_type": "markdown",
      "source": [
        "Split all training sequences in subtitle data into input and target texts"
      ],
      "metadata": {
        "id": "BTbmj7i94AvM"
      }
    },
    {
      "cell_type": "code",
      "source": [
        "dataset = sequences.map(split_input_target)"
      ],
      "metadata": {
        "id": "HSJ5oacw3-KQ"
      },
      "execution_count": 20,
      "outputs": []
    },
    {
      "cell_type": "markdown",
      "source": [
        "Demonstrate `split_input_target` on first training sequence from subtitle data (input text is first 101 characters *except* the final character; target text is first 101 characters *except* the first character)"
      ],
      "metadata": {
        "id": "sQnL5T7b4L13"
      }
    },
    {
      "cell_type": "code",
      "source": [
        "for input_example, target_example in dataset.take(1):\n",
        "    print(\"Input :\", text_from_ids(input_example).numpy())\n",
        "    print(\"Target:\", text_from_ids(target_example).numpy())"
      ],
      "metadata": {
        "colab": {
          "base_uri": "https://localhost:8080/"
        },
        "id": "JH_J0gbG4KRY",
        "outputId": "657480ca-38cf-4a87-fbe1-e48d1bceed54"
      },
      "execution_count": 21,
      "outputs": [
        {
          "output_type": "stream",
          "name": "stdout",
          "text": [
            "Input : b'The story takes place in the future where the greenhouse gases have caused the polar icecaps to melt'\n",
            "Target: b'he story takes place in the future where the greenhouse gases have caused the polar icecaps to melt,'\n"
          ]
        }
      ]
    },
    {
      "cell_type": "markdown",
      "source": [
        "Shuffle subtitle training sequences into randomly ordered batches"
      ],
      "metadata": {
        "id": "M9vjWDJO4fUO"
      }
    },
    {
      "cell_type": "code",
      "source": [
        "# Batch size\n",
        "BATCH_SIZE = 64\n",
        "\n",
        "# Buffer size to shuffle the dataset\n",
        "# (TF data is designed to work with possibly infinite sequences,\n",
        "# so it doesn't attempt to shuffle the entire sequence in memory. Instead,\n",
        "# it maintains a buffer in which it shuffles elements).\n",
        "BUFFER_SIZE = 10000\n",
        "\n",
        "dataset = (\n",
        "    dataset\n",
        "    .shuffle(BUFFER_SIZE)\n",
        "    .batch(BATCH_SIZE, drop_remainder=True)\n",
        "    .prefetch(tf.data.experimental.AUTOTUNE))\n",
        "\n",
        "dataset"
      ],
      "metadata": {
        "colab": {
          "base_uri": "https://localhost:8080/"
        },
        "id": "Wf96IqO24eR4",
        "outputId": "41ba958a-72b0-4ff4-fdcc-55fc0e3f765a"
      },
      "execution_count": 22,
      "outputs": [
        {
          "output_type": "execute_result",
          "data": {
            "text/plain": [
              "<_PrefetchDataset element_spec=(TensorSpec(shape=(64, 100), dtype=tf.int64, name=None), TensorSpec(shape=(64, 100), dtype=tf.int64, name=None))>"
            ]
          },
          "metadata": {},
          "execution_count": 22
        }
      ]
    },
    {
      "cell_type": "markdown",
      "source": [
        "Define constants required for the training model"
      ],
      "metadata": {
        "id": "uLZmDU8SkeuI"
      }
    },
    {
      "cell_type": "code",
      "source": [
        "# Length of the vocabulary in StringLookup Layer\n",
        "vocab_size = len(ids_from_chars.get_vocabulary())\n",
        "\n",
        "# The embedding dimension\n",
        "embedding_dim = 256\n",
        "\n",
        "# Number of RNN units\n",
        "rnn_units = 1024"
      ],
      "metadata": {
        "id": "Cg9vS_1Eka5K"
      },
      "execution_count": 23,
      "outputs": []
    },
    {
      "cell_type": "markdown",
      "source": [
        "Define the `keras` training model"
      ],
      "metadata": {
        "id": "vwf13johkqOd"
      }
    },
    {
      "cell_type": "code",
      "source": [
        "class MyModel(tf.keras.Model):\n",
        "  def __init__(self, vocab_size, embedding_dim, rnn_units):\n",
        "    super().__init__(self)\n",
        "    self.embedding = tf.keras.layers.Embedding(vocab_size, embedding_dim)\n",
        "    self.gru = tf.keras.layers.GRU(rnn_units,\n",
        "                                   return_sequences=True,\n",
        "                                   return_state=True)\n",
        "    self.dense = tf.keras.layers.Dense(vocab_size)\n",
        "\n",
        "  def call(self, inputs, states=None, return_state=False, training=False):\n",
        "    x = inputs\n",
        "    x = self.embedding(x, training=training)\n",
        "    if states is None:\n",
        "      states = self.gru.get_initial_state(x)\n",
        "    x, states = self.gru(x, initial_state=states, training=training)\n",
        "    x = self.dense(x, training=training)\n",
        "\n",
        "    if return_state:\n",
        "      return x, states\n",
        "    else:\n",
        "      return x"
      ],
      "metadata": {
        "id": "h1xp61F-kpSs"
      },
      "execution_count": 24,
      "outputs": []
    },
    {
      "cell_type": "markdown",
      "source": [
        "Instantiate an instance of the `keras` model called `model`"
      ],
      "metadata": {
        "id": "Lj7CviAAkyYL"
      }
    },
    {
      "cell_type": "code",
      "source": [
        "model = MyModel(\n",
        "    vocab_size=vocab_size,\n",
        "    embedding_dim=embedding_dim,\n",
        "    rnn_units=rnn_units)"
      ],
      "metadata": {
        "id": "mp8YbOTZkxMq"
      },
      "execution_count": 25,
      "outputs": []
    },
    {
      "cell_type": "markdown",
      "source": [
        "Check parameters of the training model's output"
      ],
      "metadata": {
        "id": "VZBmF_gpk8Ez"
      }
    },
    {
      "cell_type": "code",
      "source": [
        "for input_example_batch, target_example_batch in dataset.take(1):\n",
        "    example_batch_predictions = model(input_example_batch)\n",
        "    print(example_batch_predictions.shape, \"# (batch_size, sequence_length, vocab_size)\")"
      ],
      "metadata": {
        "colab": {
          "base_uri": "https://localhost:8080/"
        },
        "id": "7gUt-eo_k6Cl",
        "outputId": "da74817a-d084-4c6d-aebc-42e9315720ff"
      },
      "execution_count": 26,
      "outputs": [
        {
          "output_type": "stream",
          "name": "stdout",
          "text": [
            "(64, 100, 78) # (batch_size, sequence_length, vocab_size)\n"
          ]
        }
      ]
    },
    {
      "cell_type": "markdown",
      "source": [
        "Produce a summary of the model's characteristics"
      ],
      "metadata": {
        "id": "3eth_CfYlH_Q"
      }
    },
    {
      "cell_type": "code",
      "source": [
        "model.summary()"
      ],
      "metadata": {
        "colab": {
          "base_uri": "https://localhost:8080/"
        },
        "id": "LTvwZhPnlG4U",
        "outputId": "311d6a51-4925-4c55-c93e-9fd2355a3828"
      },
      "execution_count": 27,
      "outputs": [
        {
          "output_type": "stream",
          "name": "stdout",
          "text": [
            "Model: \"my_model\"\n",
            "_________________________________________________________________\n",
            " Layer (type)                Output Shape              Param #   \n",
            "=================================================================\n",
            " embedding (Embedding)       multiple                  19968     \n",
            "                                                                 \n",
            " gru (GRU)                   multiple                  3938304   \n",
            "                                                                 \n",
            " dense (Dense)               multiple                  79950     \n",
            "                                                                 \n",
            "=================================================================\n",
            "Total params: 4,038,222\n",
            "Trainable params: 4,038,222\n",
            "Non-trainable params: 0\n",
            "_________________________________________________________________\n"
          ]
        }
      ]
    },
    {
      "cell_type": "markdown",
      "source": [
        "Begin generating prediction from the first batch as an example"
      ],
      "metadata": {
        "id": "2_LLbigwlb1q"
      }
    },
    {
      "cell_type": "code",
      "source": [
        "sampled_indices = tf.random.categorical(example_batch_predictions[0], num_samples=1)\n",
        "sampled_indices = tf.squeeze(sampled_indices, axis=-1).numpy()"
      ],
      "metadata": {
        "id": "9X67ePz7lW2u"
      },
      "execution_count": 28,
      "outputs": []
    },
    {
      "cell_type": "markdown",
      "source": [
        "Show prediction product (in character indices)"
      ],
      "metadata": {
        "id": "0D0yZFZZloa8"
      }
    },
    {
      "cell_type": "code",
      "source": [
        "sampled_indices"
      ],
      "metadata": {
        "colab": {
          "base_uri": "https://localhost:8080/"
        },
        "id": "MOTT8If3lnTe",
        "outputId": "d46c7a7c-8391-4373-a4d8-4a248d758d18"
      },
      "execution_count": 29,
      "outputs": [
        {
          "output_type": "execute_result",
          "data": {
            "text/plain": [
              "array([38, 57, 76, 52, 29, 53, 13, 64,  9, 51,  9, 40,  9, 68, 33, 27, 25,\n",
              "       28, 39, 66, 47, 51, 54, 60, 62, 24, 49, 20, 26, 34,  0, 52, 75, 20,\n",
              "       62, 62, 49, 10, 66, 65, 52, 71, 61, 74, 47, 74, 27, 19, 54, 60, 19,\n",
              "       52, 36, 44, 37,  5, 28, 24, 25, 42, 15, 20, 51, 50, 75, 54,  2, 41,\n",
              "       17, 66,  0, 14,  9, 48, 33, 34, 12, 32, 19, 16, 29, 25, 58, 37, 32,\n",
              "       50, 71, 72, 30, 75, 40, 75, 53, 46, 32, 26, 49, 60,  4, 71])"
            ]
          },
          "metadata": {},
          "execution_count": 29
        }
      ]
    },
    {
      "cell_type": "markdown",
      "source": [
        "Show prediction output without any prior training"
      ],
      "metadata": {
        "id": "uLNTg5Q5l1aX"
      }
    },
    {
      "cell_type": "code",
      "source": [
        "print(\"Input:\\n\", text_from_ids(input_example_batch[0]).numpy())\n",
        "print()\n",
        "print(\"Next Char Predictions:\\n\", text_from_ids(sampled_indices).numpy())"
      ],
      "metadata": {
        "colab": {
          "base_uri": "https://localhost:8080/"
        },
        "id": "oTXyPj5llulI",
        "outputId": "44ff72b7-e573-492b-efc3-f6461e9003fc"
      },
      "execution_count": 30,
      "outputs": [
        {
          "output_type": "stream",
          "name": "stdout",
          "text": [
            "Input:\n",
            " b\"the Swinton's swimming pool, where it seems that David was attempting to drown Martin.\\r\\n\\r\\nHenry deci\"\n",
            "\n",
            "Next Char Predictions:\n",
            " b'Mh\\xc2\\xb0cDd0o,b,O,sHB?CNqWbekm;Z7AI[UNK]cz7mmZ-qpcvlyWyB6ek6cKTL\"C;?R27baze\\rP4q[UNK]1,YHI/G63D?iLGavwEzOzdVGAZk!v'\n"
          ]
        }
      ]
    },
    {
      "cell_type": "markdown",
      "source": [
        "Set `from_logits` flag to `True`"
      ],
      "metadata": {
        "id": "C8oN4NlRl9dp"
      }
    },
    {
      "cell_type": "code",
      "source": [
        "loss = tf.losses.SparseCategoricalCrossentropy(from_logits=True)"
      ],
      "metadata": {
        "id": "Hlm4Y2oTl7Px"
      },
      "execution_count": 31,
      "outputs": []
    },
    {
      "cell_type": "markdown",
      "source": [
        "Generate mean loss, which will be used to ascertain that untrained model is properly initialized (when compared against vocabulary size)"
      ],
      "metadata": {
        "id": "y98wXiPvmT0Q"
      }
    },
    {
      "cell_type": "code",
      "source": [
        "example_batch_mean_loss = loss(target_example_batch, example_batch_predictions)\n",
        "print(\"Prediction shape: \", example_batch_predictions.shape, \" # (batch_size, sequence_length, vocab_size)\")\n",
        "print(\"Mean loss:        \", example_batch_mean_loss)"
      ],
      "metadata": {
        "colab": {
          "base_uri": "https://localhost:8080/"
        },
        "id": "k0b4j4VimQZO",
        "outputId": "ebc801d4-17c4-46b3-d1eb-c338004e8092"
      },
      "execution_count": 32,
      "outputs": [
        {
          "output_type": "stream",
          "name": "stdout",
          "text": [
            "Prediction shape:  (64, 100, 78)  # (batch_size, sequence_length, vocab_size)\n",
            "Mean loss:         tf.Tensor(4.3574033, shape=(), dtype=float32)\n"
          ]
        }
      ]
    },
    {
      "cell_type": "markdown",
      "source": [
        "Verify that exponential of mean loss is roughly equivalent to vocab size "
      ],
      "metadata": {
        "id": "s4NgpBQGmqgl"
      }
    },
    {
      "cell_type": "code",
      "source": [
        "tf.exp(example_batch_mean_loss).numpy()"
      ],
      "metadata": {
        "colab": {
          "base_uri": "https://localhost:8080/"
        },
        "id": "vp2VOIvEmpXC",
        "outputId": "72efc591-884e-4b5d-b2be-548aa19b942f"
      },
      "execution_count": 33,
      "outputs": [
        {
          "output_type": "execute_result",
          "data": {
            "text/plain": [
              "78.054184"
            ]
          },
          "metadata": {},
          "execution_count": 33
        }
      ]
    },
    {
      "cell_type": "markdown",
      "source": [
        "Configure model with default arguments"
      ],
      "metadata": {
        "id": "xH-R9uGZm7Cz"
      }
    },
    {
      "cell_type": "code",
      "source": [
        "model.compile(optimizer='adam', loss=loss)"
      ],
      "metadata": {
        "id": "3jvnQ3Tcm5nl"
      },
      "execution_count": 34,
      "outputs": []
    },
    {
      "cell_type": "markdown",
      "source": [
        "Save checkpoints during training"
      ],
      "metadata": {
        "id": "HUq701frnDau"
      }
    },
    {
      "cell_type": "code",
      "source": [
        "# Directory where the checkpoints will be saved\n",
        "checkpoint_dir = './training_checkpoints'\n",
        "# Name of the checkpoint files\n",
        "checkpoint_prefix = os.path.join(checkpoint_dir, \"ckpt_{epoch}\")\n",
        "\n",
        "checkpoint_callback = tf.keras.callbacks.ModelCheckpoint(\n",
        "    filepath=checkpoint_prefix,\n",
        "    save_weights_only=True)"
      ],
      "metadata": {
        "id": "wrkZsDPonBhL"
      },
      "execution_count": 35,
      "outputs": []
    },
    {
      "cell_type": "markdown",
      "source": [
        "Set number of training epochs"
      ],
      "metadata": {
        "id": "tMHQ1ecXnwOI"
      }
    },
    {
      "cell_type": "code",
      "source": [
        "EPOCHS = 150"
      ],
      "metadata": {
        "id": "YiVyLNQJnvAv"
      },
      "execution_count": 36,
      "outputs": []
    },
    {
      "cell_type": "markdown",
      "source": [
        "Execute training across set number of epochs (show training times per epoch to see progress)"
      ],
      "metadata": {
        "id": "wZouzRyvn4zu"
      }
    },
    {
      "cell_type": "code",
      "source": [
        "history = model.fit(dataset, epochs=EPOCHS, callbacks=[checkpoint_callback])"
      ],
      "metadata": {
        "colab": {
          "base_uri": "https://localhost:8080/"
        },
        "id": "CrlvSNFkn1PF",
        "outputId": "fbadd6fd-9ca3-457a-d79f-80b83f5a0083"
      },
      "execution_count": 37,
      "outputs": [
        {
          "output_type": "stream",
          "name": "stdout",
          "text": [
            "Epoch 1/150\n",
            "15/15 [==============================] - 7s 169ms/step - loss: 4.3028\n",
            "Epoch 2/150\n",
            "15/15 [==============================] - 1s 70ms/step - loss: 3.3453\n",
            "Epoch 3/150\n",
            "15/15 [==============================] - 3s 152ms/step - loss: 2.8942\n",
            "Epoch 4/150\n",
            "15/15 [==============================] - 2s 88ms/step - loss: 2.6702\n",
            "Epoch 5/150\n",
            "15/15 [==============================] - 1s 60ms/step - loss: 2.5142\n",
            "Epoch 6/150\n",
            "15/15 [==============================] - 1s 83ms/step - loss: 2.4257\n",
            "Epoch 7/150\n",
            "15/15 [==============================] - 1s 64ms/step - loss: 2.3654\n",
            "Epoch 8/150\n",
            "15/15 [==============================] - 1s 67ms/step - loss: 2.3164\n",
            "Epoch 9/150\n",
            "15/15 [==============================] - 1s 61ms/step - loss: 2.2690\n",
            "Epoch 10/150\n",
            "15/15 [==============================] - 1s 64ms/step - loss: 2.2276\n",
            "Epoch 11/150\n",
            "15/15 [==============================] - 1s 63ms/step - loss: 2.1847\n",
            "Epoch 12/150\n",
            "15/15 [==============================] - 1s 62ms/step - loss: 2.1389\n",
            "Epoch 13/150\n",
            "15/15 [==============================] - 1s 66ms/step - loss: 2.0981\n",
            "Epoch 14/150\n",
            "15/15 [==============================] - 1s 63ms/step - loss: 2.0583\n",
            "Epoch 15/150\n",
            "15/15 [==============================] - 1s 65ms/step - loss: 2.0180\n",
            "Epoch 16/150\n",
            "15/15 [==============================] - 1s 68ms/step - loss: 1.9781\n",
            "Epoch 17/150\n",
            "15/15 [==============================] - 1s 66ms/step - loss: 1.9398\n",
            "Epoch 18/150\n",
            "15/15 [==============================] - 1s 62ms/step - loss: 1.8990\n",
            "Epoch 19/150\n",
            "15/15 [==============================] - 1s 64ms/step - loss: 1.8584\n",
            "Epoch 20/150\n",
            "15/15 [==============================] - 1s 65ms/step - loss: 1.8178\n",
            "Epoch 21/150\n",
            "15/15 [==============================] - 1s 64ms/step - loss: 1.7751\n",
            "Epoch 22/150\n",
            "15/15 [==============================] - 1s 64ms/step - loss: 1.7386\n",
            "Epoch 23/150\n",
            "15/15 [==============================] - 1s 63ms/step - loss: 1.6977\n",
            "Epoch 24/150\n",
            "15/15 [==============================] - 1s 64ms/step - loss: 1.6501\n",
            "Epoch 25/150\n",
            "15/15 [==============================] - 1s 67ms/step - loss: 1.6079\n",
            "Epoch 26/150\n",
            "15/15 [==============================] - 1s 66ms/step - loss: 1.5687\n",
            "Epoch 27/150\n",
            "15/15 [==============================] - 1s 72ms/step - loss: 1.5244\n",
            "Epoch 28/150\n",
            "15/15 [==============================] - 1s 64ms/step - loss: 1.4828\n",
            "Epoch 29/150\n",
            "15/15 [==============================] - 1s 65ms/step - loss: 1.4411\n",
            "Epoch 30/150\n",
            "15/15 [==============================] - 1s 66ms/step - loss: 1.4008\n",
            "Epoch 31/150\n",
            "15/15 [==============================] - 1s 67ms/step - loss: 1.3538\n",
            "Epoch 32/150\n",
            "15/15 [==============================] - 1s 67ms/step - loss: 1.3134\n",
            "Epoch 33/150\n",
            "15/15 [==============================] - 1s 65ms/step - loss: 1.2688\n",
            "Epoch 34/150\n",
            "15/15 [==============================] - 1s 64ms/step - loss: 1.2248\n",
            "Epoch 35/150\n",
            "15/15 [==============================] - 1s 78ms/step - loss: 1.1797\n",
            "Epoch 36/150\n",
            "15/15 [==============================] - 1s 66ms/step - loss: 1.1336\n",
            "Epoch 37/150\n",
            "15/15 [==============================] - 1s 72ms/step - loss: 1.0903\n",
            "Epoch 38/150\n",
            "15/15 [==============================] - 1s 67ms/step - loss: 1.0373\n",
            "Epoch 39/150\n",
            "15/15 [==============================] - 1s 64ms/step - loss: 0.9858\n",
            "Epoch 40/150\n",
            "15/15 [==============================] - 1s 65ms/step - loss: 0.9358\n",
            "Epoch 41/150\n",
            "15/15 [==============================] - 1s 67ms/step - loss: 0.8861\n",
            "Epoch 42/150\n",
            "15/15 [==============================] - 1s 64ms/step - loss: 0.8336\n",
            "Epoch 43/150\n",
            "15/15 [==============================] - 1s 67ms/step - loss: 0.7774\n",
            "Epoch 44/150\n",
            "15/15 [==============================] - 1s 64ms/step - loss: 0.7243\n",
            "Epoch 45/150\n",
            "15/15 [==============================] - 1s 66ms/step - loss: 0.6686\n",
            "Epoch 46/150\n",
            "15/15 [==============================] - 1s 71ms/step - loss: 0.6128\n",
            "Epoch 47/150\n",
            "15/15 [==============================] - 1s 70ms/step - loss: 0.5618\n",
            "Epoch 48/150\n",
            "15/15 [==============================] - 1s 65ms/step - loss: 0.5104\n",
            "Epoch 49/150\n",
            "15/15 [==============================] - 1s 67ms/step - loss: 0.4588\n",
            "Epoch 50/150\n",
            "15/15 [==============================] - 1s 69ms/step - loss: 0.4135\n",
            "Epoch 51/150\n",
            "15/15 [==============================] - 1s 66ms/step - loss: 0.3664\n",
            "Epoch 52/150\n",
            "15/15 [==============================] - 1s 67ms/step - loss: 0.3227\n",
            "Epoch 53/150\n",
            "15/15 [==============================] - 1s 67ms/step - loss: 0.2855\n",
            "Epoch 54/150\n",
            "15/15 [==============================] - 1s 67ms/step - loss: 0.2545\n",
            "Epoch 55/150\n",
            "15/15 [==============================] - 1s 66ms/step - loss: 0.2237\n",
            "Epoch 56/150\n",
            "15/15 [==============================] - 1s 74ms/step - loss: 0.1990\n",
            "Epoch 57/150\n",
            "15/15 [==============================] - 1s 75ms/step - loss: 0.1773\n",
            "Epoch 58/150\n",
            "15/15 [==============================] - 1s 65ms/step - loss: 0.1581\n",
            "Epoch 59/150\n",
            "15/15 [==============================] - 1s 70ms/step - loss: 0.1420\n",
            "Epoch 60/150\n",
            "15/15 [==============================] - 1s 65ms/step - loss: 0.1284\n",
            "Epoch 61/150\n",
            "15/15 [==============================] - 1s 70ms/step - loss: 0.1180\n",
            "Epoch 62/150\n",
            "15/15 [==============================] - 1s 67ms/step - loss: 0.1090\n",
            "Epoch 63/150\n",
            "15/15 [==============================] - 1s 69ms/step - loss: 0.1017\n",
            "Epoch 64/150\n",
            "15/15 [==============================] - 1s 66ms/step - loss: 0.0957\n",
            "Epoch 65/150\n",
            "15/15 [==============================] - 1s 67ms/step - loss: 0.0902\n",
            "Epoch 66/150\n",
            "15/15 [==============================] - 1s 69ms/step - loss: 0.0856\n",
            "Epoch 67/150\n",
            "15/15 [==============================] - 1s 71ms/step - loss: 0.0819\n",
            "Epoch 68/150\n",
            "15/15 [==============================] - 1s 68ms/step - loss: 0.0782\n",
            "Epoch 69/150\n",
            "15/15 [==============================] - 1s 68ms/step - loss: 0.0759\n",
            "Epoch 70/150\n",
            "15/15 [==============================] - 1s 67ms/step - loss: 0.0736\n",
            "Epoch 71/150\n",
            "15/15 [==============================] - 1s 65ms/step - loss: 0.0717\n",
            "Epoch 72/150\n",
            "15/15 [==============================] - 1s 69ms/step - loss: 0.0695\n",
            "Epoch 73/150\n",
            "15/15 [==============================] - 1s 65ms/step - loss: 0.0680\n",
            "Epoch 74/150\n",
            "15/15 [==============================] - 1s 69ms/step - loss: 0.0663\n",
            "Epoch 75/150\n",
            "15/15 [==============================] - 1s 64ms/step - loss: 0.0652\n",
            "Epoch 76/150\n",
            "15/15 [==============================] - 1s 68ms/step - loss: 0.0642\n",
            "Epoch 77/150\n",
            "15/15 [==============================] - 1s 69ms/step - loss: 0.0629\n",
            "Epoch 78/150\n",
            "15/15 [==============================] - 1s 66ms/step - loss: 0.0618\n",
            "Epoch 79/150\n",
            "15/15 [==============================] - 1s 65ms/step - loss: 0.0605\n",
            "Epoch 80/150\n",
            "15/15 [==============================] - 1s 68ms/step - loss: 0.0601\n",
            "Epoch 81/150\n",
            "15/15 [==============================] - 1s 66ms/step - loss: 0.0591\n",
            "Epoch 82/150\n",
            "15/15 [==============================] - 1s 65ms/step - loss: 0.0583\n",
            "Epoch 83/150\n",
            "15/15 [==============================] - 1s 69ms/step - loss: 0.0574\n",
            "Epoch 84/150\n",
            "15/15 [==============================] - 1s 67ms/step - loss: 0.0571\n",
            "Epoch 85/150\n",
            "15/15 [==============================] - 1s 68ms/step - loss: 0.0569\n",
            "Epoch 86/150\n",
            "15/15 [==============================] - 1s 73ms/step - loss: 0.0563\n",
            "Epoch 87/150\n",
            "15/15 [==============================] - 1s 69ms/step - loss: 0.0561\n",
            "Epoch 88/150\n",
            "15/15 [==============================] - 1s 65ms/step - loss: 0.0560\n",
            "Epoch 89/150\n",
            "15/15 [==============================] - 1s 67ms/step - loss: 0.0556\n",
            "Epoch 90/150\n",
            "15/15 [==============================] - 1s 65ms/step - loss: 0.0562\n",
            "Epoch 91/150\n",
            "15/15 [==============================] - 1s 66ms/step - loss: 0.0566\n",
            "Epoch 92/150\n",
            "15/15 [==============================] - 1s 67ms/step - loss: 0.0563\n",
            "Epoch 93/150\n",
            "15/15 [==============================] - 1s 68ms/step - loss: 0.0562\n",
            "Epoch 94/150\n",
            "15/15 [==============================] - 1s 67ms/step - loss: 0.0569\n",
            "Epoch 95/150\n",
            "15/15 [==============================] - 1s 65ms/step - loss: 0.0576\n",
            "Epoch 96/150\n",
            "15/15 [==============================] - 1s 71ms/step - loss: 0.0583\n",
            "Epoch 97/150\n",
            "15/15 [==============================] - 1s 70ms/step - loss: 0.0578\n",
            "Epoch 98/150\n",
            "15/15 [==============================] - 1s 66ms/step - loss: 0.0583\n",
            "Epoch 99/150\n",
            "15/15 [==============================] - 1s 68ms/step - loss: 0.0588\n",
            "Epoch 100/150\n",
            "15/15 [==============================] - 1s 68ms/step - loss: 0.0594\n",
            "Epoch 101/150\n",
            "15/15 [==============================] - 1s 67ms/step - loss: 0.0607\n",
            "Epoch 102/150\n",
            "15/15 [==============================] - 1s 65ms/step - loss: 0.0614\n",
            "Epoch 103/150\n",
            "15/15 [==============================] - 1s 66ms/step - loss: 0.0628\n",
            "Epoch 104/150\n",
            "15/15 [==============================] - 1s 68ms/step - loss: 0.0646\n",
            "Epoch 105/150\n",
            "15/15 [==============================] - 1s 65ms/step - loss: 0.0648\n",
            "Epoch 106/150\n",
            "15/15 [==============================] - 2s 87ms/step - loss: 0.0625\n",
            "Epoch 107/150\n",
            "15/15 [==============================] - 1s 69ms/step - loss: 0.0605\n",
            "Epoch 108/150\n",
            "15/15 [==============================] - 1s 73ms/step - loss: 0.0583\n",
            "Epoch 109/150\n",
            "15/15 [==============================] - 1s 65ms/step - loss: 0.0567\n",
            "Epoch 110/150\n",
            "15/15 [==============================] - 1s 67ms/step - loss: 0.0556\n",
            "Epoch 111/150\n",
            "15/15 [==============================] - 1s 69ms/step - loss: 0.0532\n",
            "Epoch 112/150\n",
            "15/15 [==============================] - 1s 67ms/step - loss: 0.0519\n",
            "Epoch 113/150\n",
            "15/15 [==============================] - 1s 65ms/step - loss: 0.0505\n",
            "Epoch 114/150\n",
            "15/15 [==============================] - 1s 64ms/step - loss: 0.0495\n",
            "Epoch 115/150\n",
            "15/15 [==============================] - 1s 72ms/step - loss: 0.0491\n",
            "Epoch 116/150\n",
            "15/15 [==============================] - 1s 72ms/step - loss: 0.0484\n",
            "Epoch 117/150\n",
            "15/15 [==============================] - 1s 67ms/step - loss: 0.0484\n",
            "Epoch 118/150\n",
            "15/15 [==============================] - 1s 70ms/step - loss: 0.0484\n",
            "Epoch 119/150\n",
            "15/15 [==============================] - 1s 65ms/step - loss: 0.0481\n",
            "Epoch 120/150\n",
            "15/15 [==============================] - 1s 70ms/step - loss: 0.0476\n",
            "Epoch 121/150\n",
            "15/15 [==============================] - 1s 66ms/step - loss: 0.0478\n",
            "Epoch 122/150\n",
            "15/15 [==============================] - 1s 67ms/step - loss: 0.0469\n",
            "Epoch 123/150\n",
            "15/15 [==============================] - 1s 66ms/step - loss: 0.0470\n",
            "Epoch 124/150\n",
            "15/15 [==============================] - 1s 66ms/step - loss: 0.0473\n",
            "Epoch 125/150\n",
            "15/15 [==============================] - 1s 75ms/step - loss: 0.0467\n",
            "Epoch 126/150\n",
            "15/15 [==============================] - 1s 69ms/step - loss: 0.0470\n",
            "Epoch 127/150\n",
            "15/15 [==============================] - 1s 71ms/step - loss: 0.0468\n",
            "Epoch 128/150\n",
            "15/15 [==============================] - 1s 66ms/step - loss: 0.0468\n",
            "Epoch 129/150\n",
            "15/15 [==============================] - 1s 66ms/step - loss: 0.0464\n",
            "Epoch 130/150\n",
            "15/15 [==============================] - 1s 67ms/step - loss: 0.0464\n",
            "Epoch 131/150\n",
            "15/15 [==============================] - 1s 69ms/step - loss: 0.0465\n",
            "Epoch 132/150\n",
            "15/15 [==============================] - 1s 68ms/step - loss: 0.0461\n",
            "Epoch 133/150\n",
            "15/15 [==============================] - 1s 66ms/step - loss: 0.0466\n",
            "Epoch 134/150\n",
            "15/15 [==============================] - 1s 75ms/step - loss: 0.0461\n",
            "Epoch 135/150\n",
            "15/15 [==============================] - 1s 70ms/step - loss: 0.0462\n",
            "Epoch 136/150\n",
            "15/15 [==============================] - 1s 67ms/step - loss: 0.0461\n",
            "Epoch 137/150\n",
            "15/15 [==============================] - 1s 69ms/step - loss: 0.0464\n",
            "Epoch 138/150\n",
            "15/15 [==============================] - 1s 68ms/step - loss: 0.0459\n",
            "Epoch 139/150\n",
            "15/15 [==============================] - 1s 65ms/step - loss: 0.0458\n",
            "Epoch 140/150\n",
            "15/15 [==============================] - 1s 70ms/step - loss: 0.0460\n",
            "Epoch 141/150\n",
            "15/15 [==============================] - 1s 65ms/step - loss: 0.0459\n",
            "Epoch 142/150\n",
            "15/15 [==============================] - 1s 65ms/step - loss: 0.0460\n",
            "Epoch 143/150\n",
            "15/15 [==============================] - 1s 72ms/step - loss: 0.0457\n",
            "Epoch 144/150\n",
            "15/15 [==============================] - 1s 71ms/step - loss: 0.0457\n",
            "Epoch 145/150\n",
            "15/15 [==============================] - 1s 66ms/step - loss: 0.0459\n",
            "Epoch 146/150\n",
            "15/15 [==============================] - 1s 69ms/step - loss: 0.0455\n",
            "Epoch 147/150\n",
            "15/15 [==============================] - 1s 65ms/step - loss: 0.0461\n",
            "Epoch 148/150\n",
            "15/15 [==============================] - 1s 69ms/step - loss: 0.0457\n",
            "Epoch 149/150\n",
            "15/15 [==============================] - 1s 65ms/step - loss: 0.0454\n",
            "Epoch 150/150\n",
            "15/15 [==============================] - 1s 68ms/step - loss: 0.0453\n"
          ]
        }
      ]
    },
    {
      "cell_type": "markdown",
      "source": [
        "Define behavior for making a single step prediction"
      ],
      "metadata": {
        "id": "pURy44B7pPAO"
      }
    },
    {
      "cell_type": "code",
      "source": [
        "class OneStep(tf.keras.Model):\n",
        "  def __init__(self, model, chars_from_ids, ids_from_chars, temperature=1.0):\n",
        "    super().__init__()\n",
        "    self.temperature = temperature\n",
        "    self.model = model\n",
        "    self.chars_from_ids = chars_from_ids\n",
        "    self.ids_from_chars = ids_from_chars\n",
        "\n",
        "    # Create a mask to prevent \"[UNK]\" from being generated.\n",
        "    skip_ids = self.ids_from_chars(['[UNK]'])[:, None]\n",
        "    sparse_mask = tf.SparseTensor(\n",
        "        # Put a -inf at each bad index.\n",
        "        values=[-float('inf')]*len(skip_ids),\n",
        "        indices=skip_ids,\n",
        "        # Match the shape to the vocabulary\n",
        "        dense_shape=[len(ids_from_chars.get_vocabulary())])\n",
        "    self.prediction_mask = tf.sparse.to_dense(sparse_mask)\n",
        "\n",
        "  @tf.function\n",
        "  def generate_one_step(self, inputs, states=None):\n",
        "    # Convert strings to token IDs.\n",
        "    input_chars = tf.strings.unicode_split(inputs, 'UTF-8')\n",
        "    input_ids = self.ids_from_chars(input_chars).to_tensor()\n",
        "\n",
        "    # Run the model.\n",
        "    # predicted_logits.shape is [batch, char, next_char_logits]\n",
        "    predicted_logits, states = self.model(inputs=input_ids, states=states,\n",
        "                                          return_state=True)\n",
        "    # Only use the last prediction.\n",
        "    predicted_logits = predicted_logits[:, -1, :]\n",
        "    predicted_logits = predicted_logits/self.temperature\n",
        "    # Apply the prediction mask: prevent \"[UNK]\" from being generated.\n",
        "    predicted_logits = predicted_logits + self.prediction_mask\n",
        "\n",
        "    # Sample the output logits to generate token IDs.\n",
        "    predicted_ids = tf.random.categorical(predicted_logits, num_samples=1)\n",
        "    predicted_ids = tf.squeeze(predicted_ids, axis=-1)\n",
        "\n",
        "    # Convert from token ids to characters\n",
        "    predicted_chars = self.chars_from_ids(predicted_ids)\n",
        "\n",
        "    # Return the characters and model state.\n",
        "    return predicted_chars, states"
      ],
      "metadata": {
        "id": "a1pTkpJypDmg"
      },
      "execution_count": 38,
      "outputs": []
    },
    {
      "cell_type": "markdown",
      "source": [
        "Instantiate one step prediction"
      ],
      "metadata": {
        "id": "pTvcO4flpfSd"
      }
    },
    {
      "cell_type": "code",
      "source": [
        "one_step_model = OneStep(model, chars_from_ids, ids_from_chars)"
      ],
      "metadata": {
        "id": "TnkxmRA0peXq"
      },
      "execution_count": 39,
      "outputs": []
    },
    {
      "cell_type": "markdown",
      "source": [
        "Predict a series of subtitles!"
      ],
      "metadata": {
        "id": "oveZRWPtpouy"
      }
    },
    {
      "cell_type": "code",
      "source": [
        "start = time.time()\n",
        "states = None\n",
        "next_char = tf.constant(['The story takes place'])\n",
        "result = [next_char]\n",
        "\n",
        "for n in range(450):\n",
        "  next_char, states = one_step_model.generate_one_step(next_char, states=states)\n",
        "  result.append(next_char)\n",
        "\n",
        "result = tf.strings.join(result)\n",
        "end = time.time()\n",
        "print(result[0].numpy().decode('utf-8'), '\\n\\n' + '_'*80)\n",
        "print('\\nRun time:', end - start)"
      ],
      "metadata": {
        "colab": {
          "base_uri": "https://localhost:8080/"
        },
        "id": "xnRjCBqnpnGP",
        "outputId": "5f8633e5-33cc-4c80-ecd0-7826cc6b1e2c"
      },
      "execution_count": 80,
      "outputs": [
        {
          "output_type": "stream",
          "name": "stdout",
          "text": [
            "The story takes place in the future where the greenhouse gases have caused the polar icecaps to melt, with the rest of the robot childs and gives him the bad news that his estimate of years is now down to days before hereve codes with the apsears in video clips behind the black hole Gquan't stand till be a trap. As David and Joe leave that he should have listened on Eirth tells Eirth leaves Dopli; the Brue Farile sniving in the future where the greenhouse gases have  \n",
            "\n",
            "________________________________________________________________________________\n",
            "\n",
            "Run time: 1.1397690773010254\n"
          ]
        }
      ]
    }
  ]
}