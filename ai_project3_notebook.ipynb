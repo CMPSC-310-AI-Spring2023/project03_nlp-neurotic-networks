{
  "nbformat": 4,
  "nbformat_minor": 0,
  "metadata": {
    "colab": {
      "provenance": [],
      "include_colab_link": true
    },
    "kernelspec": {
      "name": "python3",
      "display_name": "Python 3"
    },
    "language_info": {
      "name": "python"
    },
    "accelerator": "GPU",
    "gpuClass": "standard"
  },
  "cells": [
    {
      "cell_type": "markdown",
      "metadata": {
        "id": "view-in-github",
        "colab_type": "text"
      },
      "source": [
        "<a href=\"https://colab.research.google.com/github/CMPSC-310-AI-Spring2023/project03_nlp-neurotic-networks/blob/main/ai_project3_notebook.ipynb\" target=\"_parent\"><img src=\"https://colab.research.google.com/assets/colab-badge.svg\" alt=\"Open In Colab\"/></a>"
      ]
    },
    {
      "cell_type": "markdown",
      "source": [
        "Handle imports"
      ],
      "metadata": {
        "id": "D4sJG-zRwTU5"
      }
    },
    {
      "cell_type": "code",
      "execution_count": 53,
      "metadata": {
        "id": "xb4YKah2v-OD"
      },
      "outputs": [],
      "source": [
        "import tensorflow as tf\n",
        "\n",
        "import numpy as np\n",
        "import os\n",
        "import time"
      ]
    },
    {
      "cell_type": "markdown",
      "source": [
        "Load textual script data (one giant .srt with 11 movie scripts included); print number of characters to verify that text has been successfully retrieved"
      ],
      "metadata": {
        "id": "7brGmiVDwZf1"
      }
    },
    {
      "cell_type": "code",
      "source": [
        "from google.colab import drive\n",
        "\n",
        "drive.mount('/content/drive')\n",
        "\n",
        "text = open('/content/drive/My Drive/CMPSC310_ColabNotebooks/AI_Project3/11-movie-mashup.srt', 'rb').read().decode(encoding='utf-8')\n",
        "print(f'Length of text: {len(text)} characters')"
      ],
      "metadata": {
        "id": "AHg95JDCwjVr",
        "outputId": "37c4e39f-1c32-4aae-f1ae-075d791b125e",
        "colab": {
          "base_uri": "https://localhost:8080/"
        }
      },
      "execution_count": 54,
      "outputs": [
        {
          "output_type": "stream",
          "name": "stdout",
          "text": [
            "Drive already mounted at /content/drive; to attempt to forcibly remount, call drive.mount(\"/content/drive\", force_remount=True).\n",
            "Length of text: 1034770 characters\n"
          ]
        }
      ]
    },
    {
      "cell_type": "markdown",
      "source": [
        "Sample beginning of subtitle text to ensure correct file has been loaded"
      ],
      "metadata": {
        "id": "IjKul0VvxAYM"
      }
    },
    {
      "cell_type": "code",
      "source": [
        "print(text[:250])"
      ],
      "metadata": {
        "colab": {
          "base_uri": "https://localhost:8080/"
        },
        "id": "BziJcx0jwM88",
        "outputId": "edde3424-3d85-49af-d081-30406868131a"
      },
      "execution_count": 55,
      "outputs": [
        {
          "output_type": "stream",
          "name": "stdout",
          "text": [
            "1\r\n",
            "00:01:02,896 --> 00:01:05,898\r\n",
            "[WAVES CRASHING]\r\n",
            "\r\n",
            "2\r\n",
            "00:01:12,322 --> 00:01:14,698\r\n",
            "MAN: <i>Those were the years\r\n",
            "after the icecaps had melted...</i>\r\n",
            "\r\n",
            "3\r\n",
            "00:01:14,866 --> 00:01:17,826\r\n",
            "<i>...because of the greenhouse gases...</i>\r\n",
            "\r\n",
            "4\r\n",
            "00:01:17\n"
          ]
        }
      ]
    },
    {
      "cell_type": "markdown",
      "source": [
        "Retrieve vocabulary (number of unique characters in data text)"
      ],
      "metadata": {
        "id": "Tdry-lkczeT7"
      }
    },
    {
      "cell_type": "code",
      "source": [
        "vocab = sorted(set(text))\n",
        "print(f'{len(vocab)} unique characters')"
      ],
      "metadata": {
        "colab": {
          "base_uri": "https://localhost:8080/"
        },
        "id": "YdL9W-jbxg7c",
        "outputId": "f285fc9d-1234-4a7c-d6f5-3aaffc35eef8"
      },
      "execution_count": 56,
      "outputs": [
        {
          "output_type": "stream",
          "name": "stdout",
          "text": [
            "90 unique characters\n"
          ]
        }
      ]
    },
    {
      "cell_type": "markdown",
      "source": [
        "Demonstrate splitting text into tokens"
      ],
      "metadata": {
        "id": "XVP52Y7VzpQW"
      }
    },
    {
      "cell_type": "code",
      "source": [
        "example_texts = ['abcdefg', 'xyz']\n",
        "\n",
        "chars = tf.strings.unicode_split(example_texts, input_encoding='UTF-8')\n",
        "chars"
      ],
      "metadata": {
        "colab": {
          "base_uri": "https://localhost:8080/"
        },
        "id": "Gf58Unr-zlnG",
        "outputId": "83f55306-bfdf-4150-d681-37610a60c598"
      },
      "execution_count": 57,
      "outputs": [
        {
          "output_type": "execute_result",
          "data": {
            "text/plain": [
              "<tf.RaggedTensor [[b'a', b'b', b'c', b'd', b'e', b'f', b'g'], [b'x', b'y', b'z']]>"
            ]
          },
          "metadata": {},
          "execution_count": 57
        }
      ]
    },
    {
      "cell_type": "markdown",
      "source": [
        "Create a lookup layer"
      ],
      "metadata": {
        "id": "o3qunQdH0Jv_"
      }
    },
    {
      "cell_type": "code",
      "source": [
        "ids_from_chars = tf.keras.layers.StringLookup(\n",
        "    vocabulary=list(vocab), mask_token=None)"
      ],
      "metadata": {
        "id": "yrjx_zvwz4TE"
      },
      "execution_count": 58,
      "outputs": []
    },
    {
      "cell_type": "markdown",
      "source": [
        "Convert tokens into numeric character IDs"
      ],
      "metadata": {
        "id": "Nf9zlval0cip"
      }
    },
    {
      "cell_type": "code",
      "source": [
        "ids = ids_from_chars(chars)\n",
        "ids"
      ],
      "metadata": {
        "colab": {
          "base_uri": "https://localhost:8080/"
        },
        "id": "IgWKwXW_0N2X",
        "outputId": "5ddd112d-26b1-4937-f9bb-6eea6baa575e"
      },
      "execution_count": 59,
      "outputs": [
        {
          "output_type": "execute_result",
          "data": {
            "text/plain": [
              "<tf.RaggedTensor [[61, 62, 63, 64, 65, 66, 67], [84, 85, 86]]>"
            ]
          },
          "metadata": {},
          "execution_count": 59
        }
      ]
    },
    {
      "cell_type": "markdown",
      "source": [
        "Demonstrate the inverse of converting tokens into numeric IDs--converting numeric IDs into characters (so we can see a human-readable end product)"
      ],
      "metadata": {
        "id": "0yqkRYRa06Yw"
      }
    },
    {
      "cell_type": "code",
      "source": [
        "chars_from_ids = tf.keras.layers.StringLookup(\n",
        "    vocabulary=ids_from_chars.get_vocabulary(), invert=True, mask_token=None)"
      ],
      "metadata": {
        "id": "Vn7HItGm0i7f"
      },
      "execution_count": 60,
      "outputs": []
    },
    {
      "cell_type": "markdown",
      "source": [
        "Rejoin IDs-converted-into-characters to form full text strings"
      ],
      "metadata": {
        "id": "IeeFK9Bs1IeT"
      }
    },
    {
      "cell_type": "code",
      "source": [
        "tf.strings.reduce_join(chars, axis=-1).numpy()"
      ],
      "metadata": {
        "colab": {
          "base_uri": "https://localhost:8080/"
        },
        "id": "1ZuR0ydp1HUT",
        "outputId": "6cd7e540-be44-4cf2-9568-7a2d9d72d69e"
      },
      "execution_count": 61,
      "outputs": [
        {
          "output_type": "execute_result",
          "data": {
            "text/plain": [
              "array([b'abcdefg', b'xyz'], dtype=object)"
            ]
          },
          "metadata": {},
          "execution_count": 61
        }
      ]
    },
    {
      "cell_type": "markdown",
      "source": [
        "Condense above code into callable function for future use"
      ],
      "metadata": {
        "id": "6mUSdzxH1Vk4"
      }
    },
    {
      "cell_type": "code",
      "source": [
        "def text_from_ids(ids):\n",
        "  return tf.strings.reduce_join(chars_from_ids(ids), axis=-1)"
      ],
      "metadata": {
        "id": "EWmm-HI51Tkc"
      },
      "execution_count": 62,
      "outputs": []
    },
    {
      "cell_type": "markdown",
      "source": [
        "Actually vectorize the subtitle text using above demonstration code"
      ],
      "metadata": {
        "id": "DLK_X7pB1lrg"
      }
    },
    {
      "cell_type": "code",
      "source": [
        "all_ids = ids_from_chars(tf.strings.unicode_split(text, 'UTF-8'))\n",
        "all_ids"
      ],
      "metadata": {
        "colab": {
          "base_uri": "https://localhost:8080/"
        },
        "id": "IGUJsNSh1i-9",
        "outputId": "a940e6e3-d242-4a5d-df86-4280942fb529"
      },
      "execution_count": 63,
      "outputs": [
        {
          "output_type": "execute_result",
          "data": {
            "text/plain": [
              "<tf.Tensor: shape=(1034770,), dtype=int64, numpy=array([19,  2,  1, ...,  1,  2,  1])>"
            ]
          },
          "metadata": {},
          "execution_count": 63
        }
      ]
    },
    {
      "cell_type": "markdown",
      "source": [
        "Convert vector into a data stream of character IDs"
      ],
      "metadata": {
        "id": "-05t0Xie2Swh"
      }
    },
    {
      "cell_type": "code",
      "source": [
        "ids_dataset = tf.data.Dataset.from_tensor_slices(all_ids)"
      ],
      "metadata": {
        "id": "AUM0P16D2Rhy"
      },
      "execution_count": 64,
      "outputs": []
    },
    {
      "cell_type": "markdown",
      "source": [
        "Retrieve first ten characters from IDs in data stream to demonstrate correctness"
      ],
      "metadata": {
        "id": "LogudRvM2pEy"
      }
    },
    {
      "cell_type": "code",
      "source": [
        "for ids in ids_dataset.take(10):\n",
        "    print(chars_from_ids(ids).numpy().decode('utf-8'))"
      ],
      "metadata": {
        "colab": {
          "base_uri": "https://localhost:8080/"
        },
        "id": "HaFA3lUz2iKo",
        "outputId": "c009105a-45ee-4c08-e7da-108d51179cdd"
      },
      "execution_count": 65,
      "outputs": [
        {
          "output_type": "stream",
          "name": "stdout",
          "text": [
            "1\n",
            "\r\n",
            "\n",
            "\n",
            "0\n",
            "0\n",
            ":\n",
            "0\n",
            "1\n",
            ":\n",
            "0\n"
          ]
        }
      ]
    },
    {
      "cell_type": "markdown",
      "source": [
        "Set `seq_length`, which is the length of a single training sequence (in this case, 100 characters)"
      ],
      "metadata": {
        "id": "oIakraBD223G"
      }
    },
    {
      "cell_type": "code",
      "source": [
        "seq_length = 100"
      ],
      "metadata": {
        "id": "LJTURv_Q2xqc"
      },
      "execution_count": 66,
      "outputs": []
    },
    {
      "cell_type": "markdown",
      "source": [
        "Demonstrate calling batch to split up subtitles data into training sequences; view the first training sequence to affirm correctness"
      ],
      "metadata": {
        "id": "PVuQZDRm3HhP"
      }
    },
    {
      "cell_type": "code",
      "source": [
        "sequences = ids_dataset.batch(seq_length+1, drop_remainder=True)\n",
        "\n",
        "for seq in sequences.take(1):\n",
        "  print(chars_from_ids(seq))"
      ],
      "metadata": {
        "colab": {
          "base_uri": "https://localhost:8080/"
        },
        "id": "OZ4w3TQj3CxI",
        "outputId": "38764025-066d-4f40-909c-d91271ddd705"
      },
      "execution_count": 67,
      "outputs": [
        {
          "output_type": "stream",
          "name": "stdout",
          "text": [
            "tf.Tensor(\n",
            "[b'1' b'\\r' b'\\n' b'0' b'0' b':' b'0' b'1' b':' b'0' b'2' b',' b'8' b'9'\n",
            " b'6' b' ' b'-' b'-' b'>' b' ' b'0' b'0' b':' b'0' b'1' b':' b'0' b'5'\n",
            " b',' b'8' b'9' b'8' b'\\r' b'\\n' b'[' b'W' b'A' b'V' b'E' b'S' b' ' b'C'\n",
            " b'R' b'A' b'S' b'H' b'I' b'N' b'G' b']' b'\\r' b'\\n' b'\\r' b'\\n' b'2'\n",
            " b'\\r' b'\\n' b'0' b'0' b':' b'0' b'1' b':' b'1' b'2' b',' b'3' b'2' b'2'\n",
            " b' ' b'-' b'-' b'>' b' ' b'0' b'0' b':' b'0' b'1' b':' b'1' b'4' b','\n",
            " b'6' b'9' b'8' b'\\r' b'\\n' b'M' b'A' b'N' b':' b' ' b'<' b'i' b'>' b'T'\n",
            " b'h' b'o' b's' b'e'], shape=(101,), dtype=string)\n"
          ]
        }
      ]
    },
    {
      "cell_type": "markdown",
      "source": [
        "Rejoin above output into a human-readable string"
      ],
      "metadata": {
        "id": "CKJ1NN8h3cNu"
      }
    },
    {
      "cell_type": "code",
      "source": [
        "for seq in sequences.take(5):\n",
        "  print(text_from_ids(seq).numpy())"
      ],
      "metadata": {
        "colab": {
          "base_uri": "https://localhost:8080/"
        },
        "id": "CtpqKPLE3abi",
        "outputId": "385a5424-87aa-4d3a-95c0-bf6106530ce6"
      },
      "execution_count": 68,
      "outputs": [
        {
          "output_type": "stream",
          "name": "stdout",
          "text": [
            "b'1\\r\\n00:01:02,896 --> 00:01:05,898\\r\\n[WAVES CRASHING]\\r\\n\\r\\n2\\r\\n00:01:12,322 --> 00:01:14,698\\r\\nMAN: <i>Those'\n",
            "b' were the years\\r\\nafter the icecaps had melted...</i>\\r\\n\\r\\n3\\r\\n00:01:14,866 --> 00:01:17,826\\r\\n<i>...becau'\n",
            "b'se of the greenhouse gases...</i>\\r\\n\\r\\n4\\r\\n00:01:17,994 --> 00:01:20,662\\r\\n<i>...and the oceans had risen'\n",
            "b'\\r\\nto drown so many cities...</i>\\r\\n\\r\\n5\\r\\n00:01:20,830 --> 00:01:23,332\\r\\n<i>...along all the shorelines\\r'\n",
            "b'\\nof the world.</i>\\r\\n\\r\\n6\\r\\n00:01:23,541 --> 00:01:27,711\\r\\n<i>Amsterdam, Venice, New York...</i>\\r\\n\\r\\n7\\r\\n0'\n"
          ]
        }
      ]
    },
    {
      "cell_type": "markdown",
      "source": [
        "Define `split_input_target`, a function that can extract both an input text and a target text from a single training sequence"
      ],
      "metadata": {
        "id": "iqf4d6NS3kq5"
      }
    },
    {
      "cell_type": "code",
      "source": [
        "def split_input_target(sequence):\n",
        "    input_text = sequence[:-1]\n",
        "    target_text = sequence[1:]\n",
        "    return input_text, target_text"
      ],
      "metadata": {
        "id": "cbIM9gQ53jvr"
      },
      "execution_count": 69,
      "outputs": []
    },
    {
      "cell_type": "markdown",
      "source": [
        "Demonstrate utility of `split_input_target`"
      ],
      "metadata": {
        "id": "hW1ErpAd35Pq"
      }
    },
    {
      "cell_type": "code",
      "source": [
        "split_input_target(list(\"Tensorflow\"))"
      ],
      "metadata": {
        "colab": {
          "base_uri": "https://localhost:8080/"
        },
        "id": "QoH3lI0Y34Lb",
        "outputId": "56034f7a-85d2-4858-c4af-c287c367397a"
      },
      "execution_count": 70,
      "outputs": [
        {
          "output_type": "execute_result",
          "data": {
            "text/plain": [
              "(['T', 'e', 'n', 's', 'o', 'r', 'f', 'l', 'o'],\n",
              " ['e', 'n', 's', 'o', 'r', 'f', 'l', 'o', 'w'])"
            ]
          },
          "metadata": {},
          "execution_count": 70
        }
      ]
    },
    {
      "cell_type": "markdown",
      "source": [
        "Split all training sequences in subtitle data into input and target texts"
      ],
      "metadata": {
        "id": "BTbmj7i94AvM"
      }
    },
    {
      "cell_type": "code",
      "source": [
        "dataset = sequences.map(split_input_target)"
      ],
      "metadata": {
        "id": "HSJ5oacw3-KQ"
      },
      "execution_count": 71,
      "outputs": []
    },
    {
      "cell_type": "markdown",
      "source": [
        "Demonstrate `split_input_target` on first training sequence from subtitle data (input text is first 101 characters *except* the final character; target text is first 101 characters *except* the first character)"
      ],
      "metadata": {
        "id": "sQnL5T7b4L13"
      }
    },
    {
      "cell_type": "code",
      "source": [
        "for input_example, target_example in dataset.take(1):\n",
        "    print(\"Input :\", text_from_ids(input_example).numpy())\n",
        "    print(\"Target:\", text_from_ids(target_example).numpy())"
      ],
      "metadata": {
        "colab": {
          "base_uri": "https://localhost:8080/"
        },
        "id": "JH_J0gbG4KRY",
        "outputId": "6cbb00d3-f9a0-459b-9634-6e346f16f19c"
      },
      "execution_count": 72,
      "outputs": [
        {
          "output_type": "stream",
          "name": "stdout",
          "text": [
            "Input : b'1\\r\\n00:01:02,896 --> 00:01:05,898\\r\\n[WAVES CRASHING]\\r\\n\\r\\n2\\r\\n00:01:12,322 --> 00:01:14,698\\r\\nMAN: <i>Thos'\n",
            "Target: b'\\r\\n00:01:02,896 --> 00:01:05,898\\r\\n[WAVES CRASHING]\\r\\n\\r\\n2\\r\\n00:01:12,322 --> 00:01:14,698\\r\\nMAN: <i>Those'\n"
          ]
        }
      ]
    },
    {
      "cell_type": "markdown",
      "source": [
        "Shuffle subtitle training sequences into randomly ordered batches"
      ],
      "metadata": {
        "id": "M9vjWDJO4fUO"
      }
    },
    {
      "cell_type": "code",
      "source": [
        "# Batch size\n",
        "BATCH_SIZE = 64\n",
        "\n",
        "# Buffer size to shuffle the dataset\n",
        "# (TF data is designed to work with possibly infinite sequences,\n",
        "# so it doesn't attempt to shuffle the entire sequence in memory. Instead,\n",
        "# it maintains a buffer in which it shuffles elements).\n",
        "BUFFER_SIZE = 10000\n",
        "\n",
        "dataset = (\n",
        "    dataset\n",
        "    .shuffle(BUFFER_SIZE)\n",
        "    .batch(BATCH_SIZE, drop_remainder=True)\n",
        "    .prefetch(tf.data.experimental.AUTOTUNE))\n",
        "\n",
        "dataset"
      ],
      "metadata": {
        "colab": {
          "base_uri": "https://localhost:8080/"
        },
        "id": "Wf96IqO24eR4",
        "outputId": "584ba704-4cf5-4b25-cfc0-7221de85a1b9"
      },
      "execution_count": 73,
      "outputs": [
        {
          "output_type": "execute_result",
          "data": {
            "text/plain": [
              "<_PrefetchDataset element_spec=(TensorSpec(shape=(64, 100), dtype=tf.int64, name=None), TensorSpec(shape=(64, 100), dtype=tf.int64, name=None))>"
            ]
          },
          "metadata": {},
          "execution_count": 73
        }
      ]
    },
    {
      "cell_type": "markdown",
      "source": [
        "Define constants required for the training model"
      ],
      "metadata": {
        "id": "uLZmDU8SkeuI"
      }
    },
    {
      "cell_type": "code",
      "source": [
        "# Length of the vocabulary in StringLookup Layer\n",
        "vocab_size = len(ids_from_chars.get_vocabulary())\n",
        "\n",
        "# The embedding dimension\n",
        "embedding_dim = 256\n",
        "\n",
        "# Number of RNN units\n",
        "rnn_units = 1024"
      ],
      "metadata": {
        "id": "Cg9vS_1Eka5K"
      },
      "execution_count": 74,
      "outputs": []
    },
    {
      "cell_type": "markdown",
      "source": [
        "Define the `keras` training model"
      ],
      "metadata": {
        "id": "vwf13johkqOd"
      }
    },
    {
      "cell_type": "code",
      "source": [
        "class MyModel(tf.keras.Model):\n",
        "  def __init__(self, vocab_size, embedding_dim, rnn_units):\n",
        "    super().__init__(self)\n",
        "    self.embedding = tf.keras.layers.Embedding(vocab_size, embedding_dim)\n",
        "    self.gru = tf.keras.layers.GRU(rnn_units,\n",
        "                                   return_sequences=True,\n",
        "                                   return_state=True)\n",
        "    self.dense = tf.keras.layers.Dense(vocab_size)\n",
        "\n",
        "  def call(self, inputs, states=None, return_state=False, training=False):\n",
        "    x = inputs\n",
        "    x = self.embedding(x, training=training)\n",
        "    if states is None:\n",
        "      states = self.gru.get_initial_state(x)\n",
        "    x, states = self.gru(x, initial_state=states, training=training)\n",
        "    x = self.dense(x, training=training)\n",
        "\n",
        "    if return_state:\n",
        "      return x, states\n",
        "    else:\n",
        "      return x"
      ],
      "metadata": {
        "id": "h1xp61F-kpSs"
      },
      "execution_count": 75,
      "outputs": []
    },
    {
      "cell_type": "markdown",
      "source": [
        "Instantiate an instance of the `keras` model called `model`"
      ],
      "metadata": {
        "id": "Lj7CviAAkyYL"
      }
    },
    {
      "cell_type": "code",
      "source": [
        "model = MyModel(\n",
        "    vocab_size=vocab_size,\n",
        "    embedding_dim=embedding_dim,\n",
        "    rnn_units=rnn_units)"
      ],
      "metadata": {
        "id": "mp8YbOTZkxMq"
      },
      "execution_count": 76,
      "outputs": []
    },
    {
      "cell_type": "markdown",
      "source": [
        "Check parameters of the training model's output"
      ],
      "metadata": {
        "id": "VZBmF_gpk8Ez"
      }
    },
    {
      "cell_type": "code",
      "source": [
        "for input_example_batch, target_example_batch in dataset.take(1):\n",
        "    example_batch_predictions = model(input_example_batch)\n",
        "    print(example_batch_predictions.shape, \"# (batch_size, sequence_length, vocab_size)\")"
      ],
      "metadata": {
        "colab": {
          "base_uri": "https://localhost:8080/"
        },
        "id": "7gUt-eo_k6Cl",
        "outputId": "71772024-2e09-422f-aa4f-28412db84911"
      },
      "execution_count": 77,
      "outputs": [
        {
          "output_type": "stream",
          "name": "stdout",
          "text": [
            "(64, 100, 91) # (batch_size, sequence_length, vocab_size)\n"
          ]
        }
      ]
    },
    {
      "cell_type": "markdown",
      "source": [
        "Produce a summary of the model's characteristics"
      ],
      "metadata": {
        "id": "3eth_CfYlH_Q"
      }
    },
    {
      "cell_type": "code",
      "source": [
        "model.summary()"
      ],
      "metadata": {
        "colab": {
          "base_uri": "https://localhost:8080/"
        },
        "id": "LTvwZhPnlG4U",
        "outputId": "8bad1de0-c802-4e08-c83c-0efa6c0ca880"
      },
      "execution_count": 78,
      "outputs": [
        {
          "output_type": "stream",
          "name": "stdout",
          "text": [
            "Model: \"my_model_1\"\n",
            "_________________________________________________________________\n",
            " Layer (type)                Output Shape              Param #   \n",
            "=================================================================\n",
            " embedding_1 (Embedding)     multiple                  23296     \n",
            "                                                                 \n",
            " gru_1 (GRU)                 multiple                  3938304   \n",
            "                                                                 \n",
            " dense_1 (Dense)             multiple                  93275     \n",
            "                                                                 \n",
            "=================================================================\n",
            "Total params: 4,054,875\n",
            "Trainable params: 4,054,875\n",
            "Non-trainable params: 0\n",
            "_________________________________________________________________\n"
          ]
        }
      ]
    },
    {
      "cell_type": "markdown",
      "source": [
        "Begin generating prediction from the first batch as an example"
      ],
      "metadata": {
        "id": "2_LLbigwlb1q"
      }
    },
    {
      "cell_type": "code",
      "source": [
        "sampled_indices = tf.random.categorical(example_batch_predictions[0], num_samples=1)\n",
        "sampled_indices = tf.squeeze(sampled_indices, axis=-1).numpy()"
      ],
      "metadata": {
        "id": "9X67ePz7lW2u"
      },
      "execution_count": 79,
      "outputs": []
    },
    {
      "cell_type": "markdown",
      "source": [
        "Show prediction product (in character indices)"
      ],
      "metadata": {
        "id": "0D0yZFZZloa8"
      }
    },
    {
      "cell_type": "code",
      "source": [
        "sampled_indices"
      ],
      "metadata": {
        "colab": {
          "base_uri": "https://localhost:8080/"
        },
        "id": "MOTT8If3lnTe",
        "outputId": "4ed81654-666a-4dc5-a694-4de14aa3617c"
      },
      "execution_count": 80,
      "outputs": [
        {
          "output_type": "execute_result",
          "data": {
            "text/plain": [
              "array([48, 14, 60, 90, 14, 25, 24, 43, 66, 77, 20, 64, 16, 43, 55, 63, 90,\n",
              "       20, 69, 54, 75, 47, 69, 79, 27,  8, 19,  8, 39, 16, 53, 37, 90,  3,\n",
              "       40, 89,  3, 65, 33, 26, 47, 56, 44, 44, 67, 24, 13, 63, 31, 36,  9,\n",
              "       75, 44, 21, 71, 80,  5, 77, 20, 42,  1, 81, 41, 27, 80, 38, 72, 78,\n",
              "       30, 74, 52, 65, 90, 40, 14,  4, 40, 69, 12, 32,  4, 12,  0, 63, 42,\n",
              "       56, 77, 37, 21, 68,  7, 36, 40, 35, 49,  7, 12, 53, 47, 52])"
            ]
          },
          "metadata": {},
          "execution_count": 80
        }
      ]
    },
    {
      "cell_type": "markdown",
      "source": [
        "Show prediction output without any prior training"
      ],
      "metadata": {
        "id": "uLNTg5Q5l1aX"
      }
    },
    {
      "cell_type": "code",
      "source": [
        "print(\"Input:\\n\", text_from_ids(input_example_batch[0]).numpy())\n",
        "print()\n",
        "print(\"Next Char Predictions:\\n\", text_from_ids(sampled_indices).numpy())"
      ],
      "metadata": {
        "colab": {
          "base_uri": "https://localhost:8080/"
        },
        "id": "oTXyPj5llulI",
        "outputId": "d073f5fd-da74-4276-df09-a598aee2c48a"
      },
      "execution_count": 81,
      "outputs": [
        {
          "output_type": "stream",
          "name": "stdout",
          "text": [
            "Input:\n",
            " b\"817\\r\\nCome on, baby.\\r\\n\\r\\n534\\r\\n00:47:59,335 --> 00:48:02,254\\r\\nCharles isn't as bad as some.\\r\\n\\r\\n535\\r\\n00:\"\n",
            "\n",
            "Next Char Predictions:\n",
            " b'P,]\\xe2\\x99\\xaa,76Kfq2d.KWc\\xe2\\x99\\xaa2iVoOis9%1%G.UE\\xe2\\x99\\xaa H\\xc3\\xaa eA8OXLLg6*c>D&oL3kt\"q2J\\nuI9tFlr=nTe\\xe2\\x99\\xaaH,!Hi)?!)[UNK]cJXqE3h$DHCQ$)UOT'\n"
          ]
        }
      ]
    },
    {
      "cell_type": "markdown",
      "source": [
        "Set `from_logits` flag to `True`"
      ],
      "metadata": {
        "id": "C8oN4NlRl9dp"
      }
    },
    {
      "cell_type": "code",
      "source": [
        "loss = tf.losses.SparseCategoricalCrossentropy(from_logits=True)"
      ],
      "metadata": {
        "id": "Hlm4Y2oTl7Px"
      },
      "execution_count": 82,
      "outputs": []
    },
    {
      "cell_type": "markdown",
      "source": [
        "Generate mean loss, which will be used to ascertain that untrained model is properly initialized (when compared against vocabulary size)"
      ],
      "metadata": {
        "id": "y98wXiPvmT0Q"
      }
    },
    {
      "cell_type": "code",
      "source": [
        "example_batch_mean_loss = loss(target_example_batch, example_batch_predictions)\n",
        "print(\"Prediction shape: \", example_batch_predictions.shape, \" # (batch_size, sequence_length, vocab_size)\")\n",
        "print(\"Mean loss:        \", example_batch_mean_loss)"
      ],
      "metadata": {
        "colab": {
          "base_uri": "https://localhost:8080/"
        },
        "id": "k0b4j4VimQZO",
        "outputId": "4c571749-770f-4f9e-b3e7-067d3b0bb229"
      },
      "execution_count": 83,
      "outputs": [
        {
          "output_type": "stream",
          "name": "stdout",
          "text": [
            "Prediction shape:  (64, 100, 91)  # (batch_size, sequence_length, vocab_size)\n",
            "Mean loss:         tf.Tensor(4.5080585, shape=(), dtype=float32)\n"
          ]
        }
      ]
    },
    {
      "cell_type": "markdown",
      "source": [
        "Verify that exponential of mean loss is roughly equivalent to vocab size "
      ],
      "metadata": {
        "id": "s4NgpBQGmqgl"
      }
    },
    {
      "cell_type": "code",
      "source": [
        "tf.exp(example_batch_mean_loss).numpy()"
      ],
      "metadata": {
        "colab": {
          "base_uri": "https://localhost:8080/"
        },
        "id": "vp2VOIvEmpXC",
        "outputId": "5b446703-bee4-4256-91a2-96baf4efc106"
      },
      "execution_count": 84,
      "outputs": [
        {
          "output_type": "execute_result",
          "data": {
            "text/plain": [
              "90.74547"
            ]
          },
          "metadata": {},
          "execution_count": 84
        }
      ]
    },
    {
      "cell_type": "markdown",
      "source": [
        "Configure model with default arguments"
      ],
      "metadata": {
        "id": "xH-R9uGZm7Cz"
      }
    },
    {
      "cell_type": "code",
      "source": [
        "model.compile(optimizer='adam', loss=loss)"
      ],
      "metadata": {
        "id": "3jvnQ3Tcm5nl"
      },
      "execution_count": 85,
      "outputs": []
    },
    {
      "cell_type": "markdown",
      "source": [
        "Save checkpoints during training"
      ],
      "metadata": {
        "id": "HUq701frnDau"
      }
    },
    {
      "cell_type": "code",
      "source": [
        "# Directory where the checkpoints will be saved\n",
        "checkpoint_dir = './training_checkpoints'\n",
        "# Name of the checkpoint files\n",
        "checkpoint_prefix = os.path.join(checkpoint_dir, \"ckpt_{epoch}\")\n",
        "\n",
        "checkpoint_callback = tf.keras.callbacks.ModelCheckpoint(\n",
        "    filepath=checkpoint_prefix,\n",
        "    save_weights_only=True)"
      ],
      "metadata": {
        "id": "wrkZsDPonBhL"
      },
      "execution_count": 86,
      "outputs": []
    },
    {
      "cell_type": "markdown",
      "source": [
        "Set number of training epochs"
      ],
      "metadata": {
        "id": "tMHQ1ecXnwOI"
      }
    },
    {
      "cell_type": "code",
      "source": [
        "EPOCHS = 30"
      ],
      "metadata": {
        "id": "YiVyLNQJnvAv"
      },
      "execution_count": 87,
      "outputs": []
    },
    {
      "cell_type": "markdown",
      "source": [
        "Execute training across set number of epochs (show training times per epoch to see progress)"
      ],
      "metadata": {
        "id": "wZouzRyvn4zu"
      }
    },
    {
      "cell_type": "code",
      "source": [
        "history = model.fit(dataset, epochs=EPOCHS, callbacks=[checkpoint_callback])"
      ],
      "metadata": {
        "colab": {
          "base_uri": "https://localhost:8080/"
        },
        "id": "CrlvSNFkn1PF",
        "outputId": "309756a1-d3bc-437f-ee53-5ac1c35970ec"
      },
      "execution_count": 88,
      "outputs": [
        {
          "output_type": "stream",
          "name": "stdout",
          "text": [
            "Epoch 1/30\n",
            "160/160 [==============================] - 14s 64ms/step - loss: 2.1327\n",
            "Epoch 2/30\n",
            "160/160 [==============================] - 11s 57ms/step - loss: 1.5143\n",
            "Epoch 3/30\n",
            "160/160 [==============================] - 13s 58ms/step - loss: 1.3795\n",
            "Epoch 4/30\n",
            "160/160 [==============================] - 11s 57ms/step - loss: 1.2919\n",
            "Epoch 5/30\n",
            "160/160 [==============================] - 11s 57ms/step - loss: 1.2289\n",
            "Epoch 6/30\n",
            "160/160 [==============================] - 11s 56ms/step - loss: 1.1767\n",
            "Epoch 7/30\n",
            "160/160 [==============================] - 11s 57ms/step - loss: 1.1356\n",
            "Epoch 8/30\n",
            "160/160 [==============================] - 11s 57ms/step - loss: 1.0995\n",
            "Epoch 9/30\n",
            "160/160 [==============================] - 11s 57ms/step - loss: 1.0683\n",
            "Epoch 10/30\n",
            "160/160 [==============================] - 12s 56ms/step - loss: 1.0395\n",
            "Epoch 11/30\n",
            "160/160 [==============================] - 11s 56ms/step - loss: 1.0064\n",
            "Epoch 12/30\n",
            "160/160 [==============================] - 11s 56ms/step - loss: 0.9744\n",
            "Epoch 13/30\n",
            "160/160 [==============================] - 11s 57ms/step - loss: 0.9411\n",
            "Epoch 14/30\n",
            "160/160 [==============================] - 11s 57ms/step - loss: 0.9077\n",
            "Epoch 15/30\n",
            "160/160 [==============================] - 11s 56ms/step - loss: 0.8765\n",
            "Epoch 16/30\n",
            "160/160 [==============================] - 11s 56ms/step - loss: 0.8453\n",
            "Epoch 17/30\n",
            "160/160 [==============================] - 11s 57ms/step - loss: 0.8162\n",
            "Epoch 18/30\n",
            "160/160 [==============================] - 11s 59ms/step - loss: 0.7876\n",
            "Epoch 19/30\n",
            "160/160 [==============================] - 11s 57ms/step - loss: 0.7613\n",
            "Epoch 20/30\n",
            "160/160 [==============================] - 12s 56ms/step - loss: 0.7376\n",
            "Epoch 21/30\n",
            "160/160 [==============================] - 10s 56ms/step - loss: 0.7142\n",
            "Epoch 22/30\n",
            "160/160 [==============================] - 11s 57ms/step - loss: 0.6929\n",
            "Epoch 23/30\n",
            "160/160 [==============================] - 11s 57ms/step - loss: 0.6735\n",
            "Epoch 24/30\n",
            "160/160 [==============================] - 12s 58ms/step - loss: 0.6547\n",
            "Epoch 25/30\n",
            "160/160 [==============================] - 12s 57ms/step - loss: 0.6395\n",
            "Epoch 26/30\n",
            "160/160 [==============================] - 11s 57ms/step - loss: 0.6222\n",
            "Epoch 27/30\n",
            "160/160 [==============================] - 11s 56ms/step - loss: 0.6060\n",
            "Epoch 28/30\n",
            "160/160 [==============================] - 12s 56ms/step - loss: 0.5926\n",
            "Epoch 29/30\n",
            "160/160 [==============================] - 11s 57ms/step - loss: 0.5803\n",
            "Epoch 30/30\n",
            "160/160 [==============================] - 11s 58ms/step - loss: 0.5694\n"
          ]
        }
      ]
    },
    {
      "cell_type": "markdown",
      "source": [
        "Define behavior for making a single step prediction"
      ],
      "metadata": {
        "id": "pURy44B7pPAO"
      }
    },
    {
      "cell_type": "code",
      "source": [
        "class OneStep(tf.keras.Model):\n",
        "  def __init__(self, model, chars_from_ids, ids_from_chars, temperature=1.0):\n",
        "    super().__init__()\n",
        "    self.temperature = temperature\n",
        "    self.model = model\n",
        "    self.chars_from_ids = chars_from_ids\n",
        "    self.ids_from_chars = ids_from_chars\n",
        "\n",
        "    # Create a mask to prevent \"[UNK]\" from being generated.\n",
        "    skip_ids = self.ids_from_chars(['[UNK]'])[:, None]\n",
        "    sparse_mask = tf.SparseTensor(\n",
        "        # Put a -inf at each bad index.\n",
        "        values=[-float('inf')]*len(skip_ids),\n",
        "        indices=skip_ids,\n",
        "        # Match the shape to the vocabulary\n",
        "        dense_shape=[len(ids_from_chars.get_vocabulary())])\n",
        "    self.prediction_mask = tf.sparse.to_dense(sparse_mask)\n",
        "\n",
        "  @tf.function\n",
        "  def generate_one_step(self, inputs, states=None):\n",
        "    # Convert strings to token IDs.\n",
        "    input_chars = tf.strings.unicode_split(inputs, 'UTF-8')\n",
        "    input_ids = self.ids_from_chars(input_chars).to_tensor()\n",
        "\n",
        "    # Run the model.\n",
        "    # predicted_logits.shape is [batch, char, next_char_logits]\n",
        "    predicted_logits, states = self.model(inputs=input_ids, states=states,\n",
        "                                          return_state=True)\n",
        "    # Only use the last prediction.\n",
        "    predicted_logits = predicted_logits[:, -1, :]\n",
        "    predicted_logits = predicted_logits/self.temperature\n",
        "    # Apply the prediction mask: prevent \"[UNK]\" from being generated.\n",
        "    predicted_logits = predicted_logits + self.prediction_mask\n",
        "\n",
        "    # Sample the output logits to generate token IDs.\n",
        "    predicted_ids = tf.random.categorical(predicted_logits, num_samples=1)\n",
        "    predicted_ids = tf.squeeze(predicted_ids, axis=-1)\n",
        "\n",
        "    # Convert from token ids to characters\n",
        "    predicted_chars = self.chars_from_ids(predicted_ids)\n",
        "\n",
        "    # Return the characters and model state.\n",
        "    return predicted_chars, states"
      ],
      "metadata": {
        "id": "a1pTkpJypDmg"
      },
      "execution_count": 89,
      "outputs": []
    },
    {
      "cell_type": "markdown",
      "source": [
        "Instantiate one step prediction"
      ],
      "metadata": {
        "id": "pTvcO4flpfSd"
      }
    },
    {
      "cell_type": "code",
      "source": [
        "one_step_model = OneStep(model, chars_from_ids, ids_from_chars)"
      ],
      "metadata": {
        "id": "TnkxmRA0peXq"
      },
      "execution_count": 90,
      "outputs": []
    },
    {
      "cell_type": "markdown",
      "source": [
        "Predict a series of subtitles!"
      ],
      "metadata": {
        "id": "oveZRWPtpouy"
      }
    },
    {
      "cell_type": "code",
      "source": [
        "start = time.time()\n",
        "states = None\n",
        "next_char = tf.constant(['1\\n'])\n",
        "result = [next_char]\n",
        "\n",
        "for n in range(1000):\n",
        "  next_char, states = one_step_model.generate_one_step(next_char, states=states)\n",
        "  result.append(next_char)\n",
        "\n",
        "result = tf.strings.join(result)\n",
        "end = time.time()\n",
        "print(result[0].numpy().decode('utf-8'), '\\n\\n' + '_'*80)\n",
        "print('\\nRun time:', end - start)"
      ],
      "metadata": {
        "colab": {
          "base_uri": "https://localhost:8080/"
        },
        "id": "xnRjCBqnpnGP",
        "outputId": "e7c4bbee-6ba9-4765-bb3d-f4eaa0672417"
      },
      "execution_count": 91,
      "outputs": [
        {
          "output_type": "stream",
          "name": "stdout",
          "text": [
            "1\n",
            "00:20:45,125 --> 00:21:05,341\r\n",
            "Sometimes, we've got Kronole hell\r\n",
            "to know that.\r\n",
            "\r\n",
            "254\r\n",
            "00:23:28,911 --> 00:23:23,208\r\n",
            "They can't rig the man!\r\n",
            "\r\n",
            "433\r\n",
            "00:51:05,090 --> 00:51:15,637\r\n",
            "<i>If we lose the scientific\r\n",
            "for Penpaser, I was an awform.\r\n",
            "\r\n",
            "298\r\n",
            "00:29:50,932 --> 00:30:00,567\r\n",
            "Hey, boy!\r\n",
            "\r\n",
            "706\r\n",
            "01:07:13,820 --> 01:07:05,874\r\n",
            "CASE: Go! Go! You can't say him whatever.\r\n",
            "\r\n",
            "470\r\n",
            "01:03:30,687 --> 01:03:36,347\r\n",
            "There's been and extinction.\r\n",
            "\r\n",
            "1888\r\n",
            "01:52:29,000 --> 01:52:29,832\r\n",
            "developed ending to the storm,\r\n",
            "artise cameras will slow\r\n",
            "\r\n",
            "1075\r\n",
            "01:03:13,740 --> 01:03:14,340\r\n",
            "Dave any shands and fatherful.\r\n",
            "\r\n",
            "431\r\n",
            "00:33:11,730 --> 00:33:12,722\r\n",
            "(FOOTSTEPS APPROACHING)\r\n",
            "\r\n",
            "187\r\n",
            "00:12:32,899 --> 00:12:23,066\r\n",
            "You want a real motival.\r\n",
            "\r\n",
            "655\r\n",
            "01:06:42,024 --> 01:06:55,430\r\n",
            "He wants to get home...\r\n",
            "\r\n",
            "1748\r\n",
            "01:43:40,291 --> 01:43:42,953\r\n",
            "Just got to go here they are.\r\n",
            "\r\n",
            "536\r\n",
            "00:58:15,934 --> 00:58:28,070\r\n",
            "Okay. Looks forgy telling\r\n",
            "you to put them onl of us.\r\n",
            "\r\n",
            "71\r\n",
            "00:04:25,832 --> 00:04:02,291\r\n",
            " \n",
            "\n",
            "________________________________________________________________________________\n",
            "\n",
            "Run time: 3.1830697059631348\n"
          ]
        }
      ]
    }
  ]
}